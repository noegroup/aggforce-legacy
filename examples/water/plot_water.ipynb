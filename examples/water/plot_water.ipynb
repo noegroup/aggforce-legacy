{
 "cells": [
  {
   "cell_type": "code",
   "execution_count": 1,
   "id": "c4a99308",
   "metadata": {},
   "outputs": [
    {
     "data": {
      "application/vnd.jupyter.widget-view+json": {
       "model_id": "bae13b7e688f4793a2978ec97c332d23",
       "version_major": 2,
       "version_minor": 0
      },
      "text/plain": []
     },
     "metadata": {},
     "output_type": "display_data"
    }
   ],
   "source": [
    "import mdtraj as md\n",
    "import numpy as np\n",
    "import openmmtools\n",
    "import nglview as nv"
   ]
  },
  {
   "cell_type": "markdown",
   "id": "30e092a6",
   "metadata": {},
   "source": [
    "## Preliminaries\n",
    "\n",
    "### Define the system as an mdtraj Trajectory"
   ]
  },
  {
   "cell_type": "code",
   "execution_count": 2,
   "id": "ef9ac8da",
   "metadata": {},
   "outputs": [],
   "source": [
    "cluster = openmmtools.testsystems.WaterCluster(2)\n",
    "traj = md.Trajectory(cluster.positions, topology=cluster.mdtraj_topology)"
   ]
  },
  {
   "cell_type": "markdown",
   "id": "92c3d1c7",
   "metadata": {},
   "source": [
    "### Visual settings (color and camera angle)"
   ]
  },
  {
   "cell_type": "code",
   "execution_count": 3,
   "id": "53bb332a",
   "metadata": {},
   "outputs": [
    {
     "data": {
      "text/plain": [
       "'#000000'"
      ]
     },
     "execution_count": 3,
     "metadata": {},
     "output_type": "execute_result"
    }
   ],
   "source": [
    "def rgb2hex(r,g,b):\n",
    "    return \"#{:02x}{:02x}{:02x}\".format(int(r*255),int(g*255),int(b*255))\n",
    "\n",
    "def float2col(scale):\n",
    "    \"\"\"Define a range of colors from -1=black to 0=white to 1=petrol\"\"\"\n",
    "    color = [0, int(0x71), int(0x7f)]\n",
    "    if scale < 0:\n",
    "        #color = [int(0xf1), int(0x65), int(0x21)]\n",
    "        color = [0, 0, 0]\n",
    "        #color = [int(0xbd), int(0x20), int(0x2d)]\n",
    "    scale = np.abs(scale).clip(0.0, 1.0)\n",
    "    r = (1-scale) * 256 + scale * color[0]\n",
    "    g = (1-scale) * 256 + scale * color[1]\n",
    "    b = (1-scale) * 256 + scale * color[2]\n",
    "    return rgb2hex(r/256, g/256, b/256)\n",
    "\n",
    "float2col(-1.0)"
   ]
  },
  {
   "cell_type": "code",
   "execution_count": 4,
   "id": "93f1b917",
   "metadata": {},
   "outputs": [],
   "source": [
    "def set_camera(widget):\n",
    "    \"\"\"reproducible camera orientation\n",
    "    \"\"\"\n",
    "    widget._camera_orientation = [\n",
    "        4.354581058548545,\n",
    "        0.838163212087802,\n",
    "        -15.312603687269243,\n",
    "        0,\n",
    "        11.013629728775937,\n",
    "        -11.247599201943427,\n",
    "        2.516385868423751,\n",
    "        0,\n",
    "        -10.671378048353986,\n",
    "        -11.2663090704668,\n",
    "        -3.651396435168921,\n",
    "        0,\n",
    "        -0.9794999733567238,\n",
    "        -0.2394999861717224,\n",
    "        -0.6975000202655792,\n",
    "        1\n",
    "    ]"
   ]
  },
  {
   "cell_type": "markdown",
   "id": "c5108c51",
   "metadata": {},
   "source": [
    "## Figure Settings\n",
    "\n",
    "Toggle the settings below to produce different figures."
   ]
  },
  {
   "cell_type": "code",
   "execution_count": 5,
   "id": "929ca5e6",
   "metadata": {},
   "outputs": [],
   "source": [
    "COLORING = [1, 1, 1, -1, -1, -1]  # untoggle comment to color all water atoms\n",
    "COLORING = [1, 0, 0, -1, 0, 0] # untoggle comment to only color oxygens"
   ]
  },
  {
   "cell_type": "code",
   "execution_count": 6,
   "id": "6ecd1dd6",
   "metadata": {},
   "outputs": [],
   "source": [
    "SELECTION = np.arange(6)  # untoggle comment to show all atoms\n",
    "#SELECTION = [0,3]        # untoggle comment to show only oxygens"
   ]
  },
  {
   "cell_type": "markdown",
   "id": "f9844942",
   "metadata": {},
   "source": [
    "## Visualize "
   ]
  },
  {
   "cell_type": "code",
   "execution_count": 7,
   "id": "5f8ee5b2",
   "metadata": {},
   "outputs": [
    {
     "data": {
      "application/vnd.jupyter.widget-view+json": {
       "model_id": "f3ae1598e22a45819f5eb0a4176b796b",
       "version_major": 2,
       "version_minor": 0
      },
      "text/plain": [
       "NGLWidget()"
      ]
     },
     "metadata": {},
     "output_type": "display_data"
    },
    {
     "data": {
      "application/vnd.jupyter.widget-view+json": {
       "model_id": "4199f1c331cb46398b52943e2e418df6",
       "version_major": 2,
       "version_minor": 0
      },
      "text/plain": [
       "Tab(children=(Box(children=(Box(children=(Box(children=(Label(value='step'), IntSlider(value=1, min=-100)), la…"
      ]
     },
     "metadata": {},
     "output_type": "display_data"
    }
   ],
   "source": [
    "widget = nv.show_mdtraj(traj, gui=True)\n",
    "widget.clear_representations()\n",
    "\n",
    "widget.add_ball_and_stick(selection=SELECTION, color=\"white\", quality=\"high\", fogNear=0, fogFar=0)\n",
    "for i in SELECTION:\n",
    "    widget.add_ball_and_stick(selection=[i], color=float2col(COLORING[i]), radius=0.2)\n",
    "\n",
    "set_camera(widget)\n",
    "widget.parameters = {\n",
    "    # \"percentages, \"dist\" is distance too camera in Angstrom\n",
    "    \"clipNear\": 0, \"clipFar\": 100, \"clipDist\": 10,\n",
    "    # percentages, start of fog and where on full effect\n",
    "    \"fogNear\": 100, \"fogFar\": 100,\n",
    "    # background color\n",
    "    \"backgroundColor\": \"white\",\n",
    "    \"cameraType\": \"orthographic\",\n",
    "    \"cameraFov\": 15.\n",
    "}\n",
    "widget.display()\n",
    "#widget.download_image()\n",
    "widget\n",
    "\n",
    "\n",
    "## short scroll to get the zoom right (cameraFov is not updated automatically)\n",
    "## - then press screenshot button to download"
   ]
  },
  {
   "cell_type": "code",
   "execution_count": 8,
   "id": "69f18d67",
   "metadata": {},
   "outputs": [
    {
     "data": {
      "text/plain": [
       "[4.354581058548545,\n",
       " 0.838163212087802,\n",
       " -15.312603687269243,\n",
       " 0,\n",
       " 11.013629728775937,\n",
       " -11.247599201943427,\n",
       " 2.516385868423751,\n",
       " 0,\n",
       " -10.671378048353986,\n",
       " -11.2663090704668,\n",
       " -3.651396435168921,\n",
       " 0,\n",
       " -0.9794999733567238,\n",
       " -0.2394999861717224,\n",
       " -0.6975000202655792,\n",
       " 1]"
      ]
     },
     "execution_count": 8,
     "metadata": {},
     "output_type": "execute_result"
    }
   ],
   "source": [
    "# read camera orientation after playing around to reinsert above\n",
    "widget._camera_orientation"
   ]
  },
  {
   "cell_type": "code",
   "execution_count": null,
   "id": "219ca1fb",
   "metadata": {},
   "outputs": [],
   "source": []
  }
 ],
 "metadata": {
  "kernelspec": {
   "display_name": "Python 3 (ipykernel)",
   "language": "python",
   "name": "python3"
  },
  "language_info": {
   "codemirror_mode": {
    "name": "ipython",
    "version": 3
   },
   "file_extension": ".py",
   "mimetype": "text/x-python",
   "name": "python",
   "nbconvert_exporter": "python",
   "pygments_lexer": "ipython3",
   "version": "3.9.13"
  }
 },
 "nbformat": 4,
 "nbformat_minor": 5
}
