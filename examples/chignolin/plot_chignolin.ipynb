{
 "cells": [
  {
   "cell_type": "code",
   "execution_count": 1,
   "id": "c4a99308",
   "metadata": {},
   "outputs": [
    {
     "data": {
      "application/vnd.jupyter.widget-view+json": {
       "model_id": "89c9c95ac55e4de59f8de287d43cf72b",
       "version_major": 2,
       "version_minor": 0
      },
      "text/plain": []
     },
     "metadata": {},
     "output_type": "display_data"
    }
   ],
   "source": [
    "import mdtraj as md\n",
    "import numpy as np\n",
    "import matplotlib\n",
    "import nglview as nv"
   ]
  },
  {
   "cell_type": "markdown",
   "id": "7124c6f9",
   "metadata": {},
   "source": [
    "## Load trajectory"
   ]
  },
  {
   "cell_type": "code",
   "execution_count": 2,
   "id": "a9d8a579",
   "metadata": {},
   "outputs": [],
   "source": [
    "traj = md.load(\"chignolin.pdb\")\n",
    "traj = traj.atom_slice(traj.top.select(\"protein\"))\n",
    "traj = traj.center_coordinates()"
   ]
  },
  {
   "cell_type": "markdown",
   "id": "f60990df",
   "metadata": {},
   "source": [
    "## Atom selections"
   ]
  },
  {
   "cell_type": "code",
   "execution_count": 3,
   "id": "362f8201",
   "metadata": {},
   "outputs": [],
   "source": [
    "BEAD = 8   # the residue to be shown"
   ]
  },
  {
   "cell_type": "code",
   "execution_count": 4,
   "id": "eaa06886",
   "metadata": {},
   "outputs": [],
   "source": [
    "# show the whole protein\n",
    "#SELECTION = traj.top.select(\"protein\") #resid 8 or resid 9 or resid 7\")\n",
    "\n",
    "# show only the selected residue\n",
    "SELECTION = traj.top.select(f\"resid {BEAD}\") #resid 8 or resid 9 or resid 7\")\n",
    "\n",
    "# show the selected residue and neighbors\n",
    "#SELECTION = traj.top.select(f\"resid > {BEAD - 2 } and resid < {BEAD + 2}\")\n",
    "\n",
    "\n",
    "# selection of alpha carbons/hydrogens\n",
    "ca_bead = traj.top.select(f\"resid {BEAD} and name CA\")\n",
    "ha_bead = traj.top.select(f\"resid {BEAD} and name HA\")"
   ]
  },
  {
   "cell_type": "code",
   "execution_count": 5,
   "id": "57fd90c8",
   "metadata": {},
   "outputs": [],
   "source": [
    "# optimized force maps\n",
    "agg = np.load(\"force_map_constraint_optim_force_aggr.npy\")"
   ]
  },
  {
   "cell_type": "code",
   "execution_count": 6,
   "id": "940ed2e2",
   "metadata": {},
   "outputs": [
    {
     "data": {
      "text/plain": [
       "(10, 175)"
      ]
     },
     "execution_count": 6,
     "metadata": {},
     "output_type": "execute_result"
    }
   ],
   "source": [
    "ha_map = np.zeros((10, 175))\n",
    "for i in range(10):\n",
    "    ha = traj.top.select(f\"resid {i} and (name CA or name HA or name HA1 or name HA2 or name HA3)\")\n",
    "    if len(ha) != 0:\n",
    "        ha_map[i, ha] = 1.\n",
    "ha_map.shape"
   ]
  },
  {
   "cell_type": "markdown",
   "id": "599f8298",
   "metadata": {},
   "source": [
    "## Plot atom-to-bead assignments of different force maps"
   ]
  },
  {
   "cell_type": "code",
   "execution_count": 7,
   "id": "e83ee16f",
   "metadata": {},
   "outputs": [],
   "source": [
    "matplotlib.rcParams#[\"font\"]#[\"text.Font\"]\n",
    "matplotlib.rc('font', size=14)"
   ]
  },
  {
   "cell_type": "code",
   "execution_count": 8,
   "id": "67b16dc5",
   "metadata": {
    "scrolled": true
   },
   "outputs": [
    {
     "data": {
      "image/png": "[encoded data removed]",
      "text/plain": [
       "<Figure size 720x108 with 6 Axes>"
      ]
     },
     "metadata": {
      "needs_background": "light"
     },
     "output_type": "display_data"
    }
   ],
   "source": [
    "from matplotlib import pyplot as plt\n",
    "fig, axes = plt.subplots(1, 3, figsize=(10,1.5))#, sharex=True, sharey=True)\n",
    "\n",
    "ca_map = np.arange(traj.n_atoms) == traj.top.select(f\"name CA\")[..., None]\n",
    "im = axes[0].imshow(ca_map, cmap=\"BrBG\", vmin=-1., vmax=1., aspect='auto')\n",
    "\n",
    "#ha_map = np.arange(traj.n_atoms) == traj.top.select(f\"name HA\")[..., None]\n",
    "axes[1].imshow(ha_map, cmap=\"BrBG\", vmin=-1., vmax=1., aspect='auto')\n",
    "\n",
    "ca_map = np.arange(traj.n_atoms) == traj.top.select(f\"name CA\")[..., None]\n",
    "axes[2].imshow(agg, cmap=\"BrBG\", vmin=-1., vmax=1., aspect='auto')\n",
    "\n",
    "axes[0].set_ylabel(\"Bead index\")\n",
    "\n",
    "for i in range(3):\n",
    "    axes[i].set_xlabel(\"Atom index\")\n",
    "    axes[i].set_yticks(np.arange(0, 10, 2))\n",
    "    axes[i].set_xticks(np.arange(25, 200, 50))\n",
    "    fig.colorbar(im, ax=axes[i], extend=\"both\")\n",
    "    \n",
    "fig.savefig(\"heatmap.png\", dpi=300, bbox_inches=\"tight\")"
   ]
  },
  {
   "cell_type": "markdown",
   "id": "c92c347f",
   "metadata": {},
   "source": [
    "## Plot molecules (see water notebook for comments)"
   ]
  },
  {
   "cell_type": "code",
   "execution_count": 9,
   "id": "53bb332a",
   "metadata": {},
   "outputs": [
    {
     "data": {
      "text/plain": [
       "'#00707e'"
      ]
     },
     "execution_count": 9,
     "metadata": {},
     "output_type": "execute_result"
    }
   ],
   "source": [
    "def rgb2hex(r,g,b):\n",
    "    return \"#{:02x}{:02x}{:02x}\".format(int(r*255),int(g*255),int(b*255))\n",
    "\n",
    "def float2col(scale):\n",
    "    scale = np.abs(scale).clip(0.0, 1.0)\n",
    "    r = (1-scale) * 256 + scale * 0\n",
    "    g = (1-scale) * 256 + scale * int(0x71)\n",
    "    b = (1-scale) * 256 + scale * int(0x7f)\n",
    "    return rgb2hex(r/256, g/256, b/256)\n",
    "\n",
    "float2col(1.1)"
   ]
  },
  {
   "cell_type": "code",
   "execution_count": null,
   "id": "c80aae63",
   "metadata": {},
   "outputs": [],
   "source": []
  },
  {
   "cell_type": "code",
   "execution_count": 10,
   "id": "00fc01c7",
   "metadata": {},
   "outputs": [],
   "source": [
    "def set_camera(widget):\n",
    "    widget._camera_orientation = [\n",
    "        16.702760255448407,\n",
    "        3.2556843312107104,\n",
    "        -20.309920206970997,\n",
    "        0,\n",
    "        -4.600914949852625,\n",
    "        26.091132606703333,\n",
    "        0.39864815644667556,\n",
    "        0,\n",
    "        20.048040325733623,\n",
    "        3.275340938578024,\n",
    "        17.01242958142191,\n",
    "        0,\n",
    "        1.0052416324615479,\n",
    "        -0.16883397102355957,\n",
    "        1.2986979484558105,\n",
    "        1\n",
    "    ]"
   ]
  },
  {
   "cell_type": "code",
   "execution_count": 11,
   "id": "929ca5e6",
   "metadata": {},
   "outputs": [],
   "source": [
    "# Toggle comment for selection of coloring\n",
    "COLORING = np.isin(np.arange(175), [ha_bead, ca_bead])\n",
    "COLORING = np.isin(np.arange(175), [ca_bead])\n",
    "COLORING = agg[BEAD]"
   ]
  },
  {
   "cell_type": "code",
   "execution_count": 12,
   "id": "5f8ee5b2",
   "metadata": {},
   "outputs": [
    {
     "data": {
      "application/vnd.jupyter.widget-view+json": {
       "model_id": "be82fd7d0465426e850a0cf0309a709c",
       "version_major": 2,
       "version_minor": 0
      },
      "text/plain": [
       "NGLWidget()"
      ]
     },
     "metadata": {},
     "output_type": "display_data"
    },
    {
     "data": {
      "application/vnd.jupyter.widget-view+json": {
       "model_id": "5c54e6c669864db896bdf1e0f8a01440",
       "version_major": 2,
       "version_minor": 0
      },
      "text/plain": [
       "Tab(children=(Box(children=(Box(children=(Box(children=(Label(value='step'), IntSlider(value=1, min=-100)), la…"
      ]
     },
     "metadata": {},
     "output_type": "display_data"
    }
   ],
   "source": [
    "cm = nv.color.ColormakerRegistry\n",
    "cm.add_selection_scheme(\n",
    "    \"custom\",\n",
    "    [\n",
    "        [\"#ffcc00\", \"1-10\"],\n",
    "        [\"#00ffcc\", \"11-20\"],\n",
    "    ]\n",
    ")\n",
    "\n",
    "widget = nv.show_mdtraj(traj, gui=True)\n",
    "widget.clear_representations()\n",
    "\n",
    "widget.add_ball_and_stick(selection=SELECTION, color=\"white\", quality=\"high\", fogNear=0, fogFar=0)\n",
    "for i in SELECTION:\n",
    "    widget.add_ball_and_stick(selection=[i], color=float2col(COLORING[i]), radius=0.2)\n",
    "    #widget.add_ball(selection=[i], color=float2col(COLORING[i]), radius=0.2)\n",
    "\n",
    "set_camera(widget)\n",
    "widget.parameters = {\n",
    "    # \"percentages, \"dist\" is distance too camera in Angstrom\n",
    "    \"clipNear\": 0, \"clipFar\": 100, \"clipDist\": 10,\n",
    "    # percentages, start of fog and where on full effect\n",
    "    \"fogNear\": 100, \"fogFar\": 100,\n",
    "    # background color\n",
    "    \"backgroundColor\": \"white\",\n",
    "    \"cameraType\": \"orthographic\",\n",
    "    \"cameraFov\": 15.\n",
    "}\n",
    "widget.display()\n",
    "#widget.download_image()\n",
    "widget\n",
    "\n",
    "\n",
    "## short scroll to get the zoom right (cameraFov is not updated automatically)\n",
    "## - then press screenshot button to download"
   ]
  },
  {
   "cell_type": "code",
   "execution_count": 13,
   "id": "69f18d67",
   "metadata": {},
   "outputs": [
    {
     "data": {
      "text/plain": [
       "[16.702760255448407,\n",
       " 3.2556843312107104,\n",
       " -20.309920206970997,\n",
       " 0,\n",
       " -4.600914949852625,\n",
       " 26.091132606703333,\n",
       " 0.39864815644667556,\n",
       " 0,\n",
       " 20.048040325733623,\n",
       " 3.275340938578024,\n",
       " 17.01242958142191,\n",
       " 0,\n",
       " 1.0052416324615479,\n",
       " -0.16883397102355957,\n",
       " 1.2986979484558105,\n",
       " 1]"
      ]
     },
     "execution_count": 13,
     "metadata": {},
     "output_type": "execute_result"
    }
   ],
   "source": [
    "widget._camera_orientation"
   ]
  },
  {
   "cell_type": "code",
   "execution_count": null,
   "id": "1ec1d8d9",
   "metadata": {},
   "outputs": [],
   "source": []
  }
 ],
 "metadata": {
  "kernelspec": {
   "display_name": "Python 3 (ipykernel)",
   "language": "python",
   "name": "python3"
  },
  "language_info": {
   "codemirror_mode": {
    "name": "ipython",
    "version": 3
   },
   "file_extension": ".py",
   "mimetype": "text/x-python",
   "name": "python",
   "nbconvert_exporter": "python",
   "pygments_lexer": "ipython3",
   "version": "3.9.13"
  }
 },
 "nbformat": 4,
 "nbformat_minor": 5
}
